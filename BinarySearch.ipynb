{
 "cells": [
  {
   "cell_type": "markdown",
   "metadata": {},
   "source": [
    "### Binary Search using arrays.\n",
    "The algorithm `BinarySearch` takes in an array of integers `input` and finds the index of the desired integer `searchTerm`.\n",
    "\n",
    "If the `input` does not contain the `searchTerm`, the function returns a `-1`."
   ]
  },
  {
   "cell_type": "code",
   "execution_count": null,
   "metadata": {
    "dotnet_interactive": {
     "language": "csharp"
    },
    "vscode": {
     "languageId": "dotnet-interactive.csharp"
    }
   },
   "outputs": [],
   "source": [
    "public int BinarySearch(int[] input, int searchTerm)\n",
    "{\n",
    "    var bottom = 0;\n",
    "    var top = input.Length - 1;\n",
    "    var result = -1;\n",
    "\n",
    "    while(bottom <= top)\n",
    "    {\n",
    "        var middleIndex = (bottom + top) / 2;\n",
    "        var currentValue = input[middleIndex];\n",
    "\n",
    "        if (currentValue == searchTerm)\n",
    "        {\n",
    "            result = middleIndex;\n",
    "            break;\n",
    "        }\n",
    "\n",
    "        if (searchTerm < currentValue)\n",
    "        {\n",
    "            top = middleIndex - 1;\n",
    "        }\n",
    "        else\n",
    "        {\n",
    "            bottom = middleIndex + 1;\n",
    "        }\n",
    "    }\n",
    "\n",
    "    return result;\n",
    "}"
   ]
  },
  {
   "cell_type": "code",
   "execution_count": null,
   "metadata": {
    "dotnet_interactive": {
     "language": "csharp"
    },
    "vscode": {
     "languageId": "dotnet-interactive.csharp"
    }
   },
   "outputs": [
    {
     "name": "stdout",
     "output_type": "stream",
     "text": [
      "The number 5 is located at index: 1"
     ]
    }
   ],
   "source": [
    "// Run this block to display the result.\n",
    "public void DisplayResult(int searchTerm, int index)\n",
    "{\n",
    "    string sentence;\n",
    "\n",
    "    if (index == -1)\n",
    "    {\n",
    "        sentence = $\"{searchTerm} is not in the array\";\n",
    "    }\n",
    "    else\n",
    "    {\n",
    "        sentence = $\"The number {searchTerm} is located at index: {index}\";\n",
    "    }\n",
    "\n",
    "    Console.Write(sentence);\n",
    "}\n",
    "\n",
    "// Play around with these variables to see how the algorithm behaves in different scenarios.\n",
    "var arr = new int[] {1,5,9,100};\n",
    "var searchTerm = 5;\n",
    "\n",
    "var result = BinarySearch(arr, searchTerm);\n",
    "\n",
    "\n",
    "DisplayResult(searchTerm, result);"
   ]
  }
 ],
 "metadata": {
  "kernelspec": {
   "display_name": ".NET (C#)",
   "language": "C#",
   "name": ".net-csharp"
  },
  "language_info": {
   "name": "C#"
  }
 },
 "nbformat": 4,
 "nbformat_minor": 2
}
