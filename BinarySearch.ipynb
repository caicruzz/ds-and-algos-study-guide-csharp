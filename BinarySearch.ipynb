{
 "cells": [
  {
   "cell_type": "markdown",
   "metadata": {},
   "source": [
    "### Binary Search using arrays.\n",
    "The algorithm `BinarySearch` takes in an array of integers `input` and finds the index of the desired integer `searchTerm`.\n",
    "\n",
    "If the `input` does not contain the `searchTerm`, the function returns a `-1`."
   ]
  },
  {
   "cell_type": "code",
   "execution_count": null,
   "metadata": {
    "dotnet_interactive": {
     "language": "csharp"
    },
    "vscode": {
     "languageId": "dotnet-interactive.csharp"
    }
   },
   "outputs": [],
   "source": [
    "public int BinarySearch(int[] input, int searchTerm)\n",
    "{\n",
    "    var bottom = 0;\n",
    "    var top = input.Length;\n",
    "    var result = -1;\n",
    "\n",
    "    while(bottom <= top)\n",
    "    {\n",
    "        var middleIndex = (bottom + top) / 2;\n",
    "        var currentValue = input[middleIndex];\n",
    "\n",
    "        if (currentValue == searchTerm)\n",
    "        {\n",
    "            result = middleIndex;\n",
    "            break;\n",
    "        }\n",
    "\n",
    "        if (searchTerm < currentValue)\n",
    "        {\n",
    "            top = middleIndex - 1;\n",
    "        }\n",
    "        else\n",
    "        {\n",
    "            bottom = middleIndex + 1;\n",
    "        }\n",
    "    }\n",
    "\n",
    "    return result;\n",
    "}"
   ]
  },
  {
   "cell_type": "code",
   "execution_count": null,
   "metadata": {
    "dotnet_interactive": {
     "language": "csharp"
    },
    "vscode": {
     "languageId": "dotnet-interactive.csharp"
    }
   },
   "outputs": [
    {
     "ename": "Error",
     "evalue": "System.IndexOutOfRangeException: Index was outside the bounds of the array.\r\n   at Submission#20.BinarySearch(Int32[] input, Int32 searchTerm)\r\n   at Submission#34.<<Initialize>>d__0.MoveNext()\r\n--- End of stack trace from previous location ---\r\n   at Microsoft.CodeAnalysis.Scripting.ScriptExecutionState.RunSubmissionsAsync[TResult](ImmutableArray`1 precedingExecutors, Func`2 currentExecutor, StrongBox`1 exceptionHolderOpt, Func`2 catchExceptionOpt, CancellationToken cancellationToken)",
     "output_type": "error",
     "traceback": [
      "System.IndexOutOfRangeException: Index was outside the bounds of the array.\r\n",
      "   at Submission#20.BinarySearch(Int32[] input, Int32 searchTerm)\r\n",
      "   at Submission#34.<<Initialize>>d__0.MoveNext()\r\n",
      "--- End of stack trace from previous location ---\r\n",
      "   at Microsoft.CodeAnalysis.Scripting.ScriptExecutionState.RunSubmissionsAsync[TResult](ImmutableArray`1 precedingExecutors, Func`2 currentExecutor, StrongBox`1 exceptionHolderOpt, Func`2 catchExceptionOpt, CancellationToken cancellationToken)"
     ]
    }
   ],
   "source": [
    "// Run this block to display the result.\n",
    "public void DisplayResult(int searchTerm, int index)\n",
    "{\n",
    "    string sentence;\n",
    "\n",
    "    if (index == -1)\n",
    "    {\n",
    "        sentence = $\"{searchTerm} is not in the array\";\n",
    "    }\n",
    "    else\n",
    "    {\n",
    "        sentence = $\"The number {searchTerm} is located at index: {index}\";\n",
    "    }\n",
    "\n",
    "    Console.Write(sentence);\n",
    "}\n",
    "\n",
    "// Play around with these variables to see how the algorithm behaves in different scenarios.\n",
    "var arr = new int[] {1,3,7,9};\n",
    "var searchTerm = 100;\n",
    "\n",
    "var result = BinarySearch(arr, searchTerm);\n",
    "\n",
    "\n",
    "DisplayResult(searchTerm, result);"
   ]
  }
 ],
 "metadata": {
  "kernelspec": {
   "display_name": ".NET (C#)",
   "language": "C#",
   "name": ".net-csharp"
  },
  "language_info": {
   "name": "C#"
  }
 },
 "nbformat": 4,
 "nbformat_minor": 2
}
