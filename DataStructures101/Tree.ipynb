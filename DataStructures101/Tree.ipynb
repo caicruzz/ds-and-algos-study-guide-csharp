{
 "cells": [
  {
   "cell_type": "markdown",
   "metadata": {},
   "source": [
    "## Tree\n",
    "\n",
    "### Description\n",
    "A Tree is a data structure that is composed of nodes and edges connecting the nodes. Each node holds a value for example an integer, string or objects. The very first node is known as the *root* node. Nodes follow a child and parent relationship. Every node must have one single parent and could have zero or more children nodes. The exception is the root node. Root nodes do not have a parent. Every tree must have a single root node.\n",
    "\n",
    "### Example\n",
    "![Stack Animation](../illustrations/binary-search-tree.jpg)\n",
    "\n",
    "<font size=\"1\">image source: [FAVPNG.com](https://favpng.com/png_view/node-structure-binary-search-tree-binary-tree-data-structure-png/3pfGkW7p)</font>"
   ]
  },
  {
   "cell_type": "markdown",
   "metadata": {},
   "source": [
    "### Implementation"
   ]
  },
  {
   "cell_type": "code",
   "execution_count": null,
   "metadata": {
    "dotnet_interactive": {
     "language": "csharp"
    },
    "vscode": {
     "languageId": "dotnet-interactive.csharp"
    }
   },
   "outputs": [
    {
     "name": "stdout",
     "output_type": "stream",
     "text": [
      "   2--> root/parent node\r\n",
      "  * *  \r\n",
      " 1   3--> children nodes\r\n"
     ]
    }
   ],
   "source": [
    "public class Node<T>\n",
    "{\n",
    "    public T val;\n",
    "    public Node<T> left;\n",
    "    public Node<T> right;\n",
    "\n",
    "    public Node(T val, Node<T> left, Node<T> right)\n",
    "    {\n",
    "        this.val = val;\n",
    "        this.left = left;\n",
    "        this.right = right;\n",
    "    }\n",
    "\n",
    "    public Node(T val) : this(val, null, null) { }\n",
    "}\n",
    "\n",
    "var leftChildNode = new Node<int>(1);\n",
    "var rightChildNode = new Node<int>(3);\n",
    "var rootNode = new Node<int>(2, leftChildNode, rightChildNode);\n",
    "\n",
    "\n",
    "Console.WriteLine($\"   {rootNode.val}--> root/parent node\");\n",
    "Console.WriteLine($\"  * *  \");\n",
    "Console.WriteLine($\" {rootNode.left.val}   {rootNode.right.val}--> children nodes\");\n"
   ]
  }
 ],
 "metadata": {
  "kernelspec": {
   "display_name": ".NET (C#)",
   "language": "C#",
   "name": ".net-csharp"
  },
  "language_info": {
   "file_extension": ".cs",
   "mimetype": "text/x-csharp",
   "name": "C#",
   "pygments_lexer": "csharp",
   "version": "9.0"
  },
  "orig_nbformat": 4
 },
 "nbformat": 4,
 "nbformat_minor": 2
}
