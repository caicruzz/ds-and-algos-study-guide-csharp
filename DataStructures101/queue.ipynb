{
 "cells": [
  {
   "cell_type": "markdown",
   "metadata": {},
   "source": [
    "## Queue\n",
    "\n",
    "### Description\n",
    "A queue is a data structure that follows the *First In First Out (FIFO)* principle. Think of a line of paying customers at the super market. The cashier would normally check out the first customer in line. Otherwise, customers that came first would get mad if they are skipped.\n",
    "\n",
    "### Example\n",
    "In the illustration bellow, block 8 would be the first customer in line and block 5 would be the last customer.\n",
    "![queue Animation](../illustrations/queuegif.gif)\n",
    "\n",
    "<font size=\"1\">image source: [deepblade.com](https://deepblade.com/)</font>\n",
    "\n",
    "### Operations\n",
    "This data structure supports 3 major operations:\n",
    "1. Enqueue (adding elements to the queue)\n",
    "2. Dequeue (removing elements from the queue)\n",
    "3. Peek (looking at the contents of the next element without removing it)\n",
    "\n",
    "`C#` and many popular languages have a built in queue implementation. For `C#` we have the `Queue` class. Don't quote me on this, but I am pretty sure many languages use a dynamically sized array under the hood to implement the queue class. Below you can find a block of code that mimics the behavior of the customers example above."
   ]
  },
  {
   "cell_type": "code",
   "execution_count": null,
   "metadata": {
    "dotnet_interactive": {
     "language": "csharp"
    },
    "vscode": {
     "languageId": "dotnet-interactive.csharp"
    }
   },
   "outputs": [
    {
     "name": "stdout",
     "output_type": "stream",
     "text": [
      "The the next customer in line is number 8\r\n",
      "Checking out customer numer 8...\r\n",
      "Checking out customer numer 4...\r\n",
      "Checking out customer numer 7...\r\n",
      "Checking out customer numer 5...\r\n",
      "Done!\r\n"
     ]
    }
   ],
   "source": [
    "using System.Collections.Generic;\n",
    "\n",
    "var queue = new Queue<int>();\n",
    "\n",
    "// customers getting in line\n",
    "queue.Enqueue(8);\n",
    "queue.Enqueue(4);\n",
    "queue.Enqueue(7);\n",
    "queue.Enqueue(5);\n",
    "\n",
    "\n",
    "// we can peek at the next customer in line and it won't be removed from the queue\n",
    "Console.WriteLine($\"The the next customer in line is number {queue.Peek()}\");\n",
    "\n",
    "// checking out the customers\n",
    "while (queue.Count > 0)\n",
    "{\n",
    "    var customer = queue.Dequeue();\n",
    "    Console.WriteLine($\"Checking out customer numer {customer}...\");\n",
    "}\n",
    "\n",
    "Console.WriteLine(\"Done!\")\n"
   ]
  },
  {
   "cell_type": "markdown",
   "metadata": {},
   "source": [
    "#### Notes\n",
    "It is important to note that the `while` loop only runs until there are no more elements in the queue. If you attempt to call `Dequeue()` or `Peek()` on an empty queue you will get an error known as `underflow`."
   ]
  },
  {
   "cell_type": "code",
   "execution_count": null,
   "metadata": {
    "dotnet_interactive": {
     "language": "csharp"
    },
    "vscode": {
     "languageId": "dotnet-interactive.csharp"
    }
   },
   "outputs": [
    {
     "ename": "Error",
     "evalue": "System.InvalidOperationException: Queue empty.\r\n   at System.Collections.Generic.Queue`1.ThrowForEmptyQueue()\r\n   at System.Collections.Generic.Queue`1.Dequeue()\r\n   at Submission#7.<<Initialize>>d__0.MoveNext()\r\n--- End of stack trace from previous location ---\r\n   at Microsoft.CodeAnalysis.Scripting.ScriptExecutionState.RunSubmissionsAsync[TResult](ImmutableArray`1 precedingExecutors, Func`2 currentExecutor, StrongBox`1 exceptionHolderOpt, Func`2 catchExceptionOpt, CancellationToken cancellationToken)",
     "output_type": "error",
     "traceback": [
      "System.InvalidOperationException: Queue empty.\r\n",
      "   at System.Collections.Generic.Queue`1.ThrowForEmptyQueue()\r\n",
      "   at System.Collections.Generic.Queue`1.Dequeue()\r\n",
      "   at Submission#7.<<Initialize>>d__0.MoveNext()\r\n",
      "--- End of stack trace from previous location ---\r\n",
      "   at Microsoft.CodeAnalysis.Scripting.ScriptExecutionState.RunSubmissionsAsync[TResult](ImmutableArray`1 precedingExecutors, Func`2 currentExecutor, StrongBox`1 exceptionHolderOpt, Func`2 catchExceptionOpt, CancellationToken cancellationToken)"
     ]
    }
   ],
   "source": [
    "queue.Dequeue();\n",
    "// nasty error below"
   ]
  }
 ],
 "metadata": {
  "kernelspec": {
   "display_name": ".NET (C#)",
   "language": "C#",
   "name": ".net-csharp"
  },
  "language_info": {
   "file_extension": ".cs",
   "mimetype": "text/x-csharp",
   "name": "C#",
   "pygments_lexer": "csharp",
   "version": "9.0"
  },
  "orig_nbformat": 4
 },
 "nbformat": 4,
 "nbformat_minor": 2
}
