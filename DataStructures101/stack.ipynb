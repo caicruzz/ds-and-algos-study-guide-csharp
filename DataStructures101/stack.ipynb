{
 "cells": [
  {
   "cell_type": "markdown",
   "metadata": {},
   "source": [
    "## Stack\n",
    "\n",
    "### Description\n",
    "A stack is a data structure that follows the *First In Last Out (FILO)* principle. Think of a stack of dirty plates. If you want to start washing them, it makes more sense to grab the plate at the top than the first plate you *stacked* at the bottom.\n",
    "\n",
    "### Example\n",
    "In the illustration bellow, block 8 would be the first plate you stacked and block 5 would be the last one you stacked. However, block 5 would be the first plate you wash, and block 8 would be the last one.\n",
    "![Stack Animation](../illustrations/stackgif.gif)\n",
    "\n",
    "### Operations\n",
    "This data structure supports 3 major operations:\n",
    "1. Push (adding elements to the stack)\n",
    "2. Pop (removing elements from the stack)\n",
    "3. Peek (looking at the contents of the top element without removing it)\n",
    "\n",
    "`C#` and many popular languages have a built in stack implementation. For `C#` we have the `Stack` class. Don't quote me on this, but I am pretty sure many languages use a dynamically sized array under the hood to implement the Stack class. Below you can find a block of code that mimics the behavior of the dirty plates example above."
   ]
  },
  {
   "cell_type": "code",
   "execution_count": null,
   "metadata": {
    "dotnet_interactive": {
     "language": "csharp"
    },
    "vscode": {
     "languageId": "dotnet-interactive.csharp"
    }
   },
   "outputs": [
    {
     "name": "stdout",
     "output_type": "stream",
     "text": [
      "The plate at the top is number 5\r\n",
      "washing plate number 5...\r\n",
      "washing plate number 7...\r\n",
      "washing plate number 4...\r\n",
      "washing plate number 8...\r\n",
      "Done!\r\n"
     ]
    }
   ],
   "source": [
    "using System.Collections.Generic;\n",
    "\n",
    "var stack = new Stack<int>();\n",
    "\n",
    "// stacking the dirty plates\n",
    "stack.Push(8);\n",
    "stack.Push(4);\n",
    "stack.Push(7);\n",
    "stack.Push(5);\n",
    "\n",
    "\n",
    "// we can peek at the top plate and it won't be removed from the stack\n",
    "Console.WriteLine($\"The plate at the top is number {stack.Peek()}\");\n",
    "\n",
    "// washing the plates\n",
    "while (stack.Count > 0)\n",
    "{\n",
    "    var dirtyPlate = stack.Pop();\n",
    "    Console.WriteLine($\"washing plate number {dirtyPlate}...\");\n",
    "}\n",
    "\n",
    "Console.WriteLine(\"Done!\")\n"
   ]
  },
  {
   "cell_type": "markdown",
   "metadata": {},
   "source": [
    "#### Notes\n",
    "It is important to note that the `while` loop only runs until there are no more elements in the stack. If you attempt to call `Pop()` or `Peek()` on an empty stack you will get an error known as `underflow`."
   ]
  },
  {
   "cell_type": "code",
   "execution_count": null,
   "metadata": {
    "dotnet_interactive": {
     "language": "csharp"
    },
    "vscode": {
     "languageId": "dotnet-interactive.csharp"
    }
   },
   "outputs": [
    {
     "ename": "Error",
     "evalue": "System.InvalidOperationException: Stack empty.\r\n   at System.Collections.Generic.Stack`1.ThrowForEmptyStack()\r\n   at System.Collections.Generic.Stack`1.Pop()\r\n   at Submission#5.<<Initialize>>d__0.MoveNext()\r\n--- End of stack trace from previous location ---\r\n   at Microsoft.CodeAnalysis.Scripting.ScriptExecutionState.RunSubmissionsAsync[TResult](ImmutableArray`1 precedingExecutors, Func`2 currentExecutor, StrongBox`1 exceptionHolderOpt, Func`2 catchExceptionOpt, CancellationToken cancellationToken)",
     "output_type": "error",
     "traceback": [
      "System.InvalidOperationException: Stack empty.\r\n",
      "   at System.Collections.Generic.Stack`1.ThrowForEmptyStack()\r\n",
      "   at System.Collections.Generic.Stack`1.Pop()\r\n",
      "   at Submission#5.<<Initialize>>d__0.MoveNext()\r\n",
      "--- End of stack trace from previous location ---\r\n",
      "   at Microsoft.CodeAnalysis.Scripting.ScriptExecutionState.RunSubmissionsAsync[TResult](ImmutableArray`1 precedingExecutors, Func`2 currentExecutor, StrongBox`1 exceptionHolderOpt, Func`2 catchExceptionOpt, CancellationToken cancellationToken)"
     ]
    }
   ],
   "source": [
    "// pretty cool how we can share variables between blocks in these notebooks, huh?\n",
    "stack.Pop()\n",
    "// nasty error below"
   ]
  }
 ],
 "metadata": {
  "kernelspec": {
   "display_name": ".NET (C#)",
   "language": "C#",
   "name": ".net-csharp"
  },
  "language_info": {
   "file_extension": ".cs",
   "mimetype": "text/x-csharp",
   "name": "C#",
   "pygments_lexer": "csharp",
   "version": "9.0"
  },
  "orig_nbformat": 4
 },
 "nbformat": 4,
 "nbformat_minor": 2
}
