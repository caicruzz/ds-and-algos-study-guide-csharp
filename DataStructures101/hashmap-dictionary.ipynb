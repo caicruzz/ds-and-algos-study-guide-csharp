{
 "cells": [
  {
   "cell_type": "markdown",
   "metadata": {},
   "source": [
    "## HashMap (Dictionary)\n",
    "### Description\n",
    "A hash map is a data structure that is useful when you want to map 2 values together. Think of the phonebook app on your phone. You probably have a record for family members or close friends. These combinations of the name and phone number are represented as `(key, value)` pairs in a hash map. The key would be the name of the person, and the value would be their phone number. Hash maps are really good at looking up information. Usually, they are a constant operation `O(1)`. Use them whenever you need to retreive lots of information in your algorithm. Luckily, `C#` has a built in class called `Dictionary` which essentially is a hash map.\n",
    "\n",
    "### Operations\n",
    "A hash map supports:\n",
    "1. Adding key-value pairs.\n",
    "2. Looking up a value by its key.\n",
    "3. Getting the total count of entries.\n",
    "\n",
    "\n",
    "### Example\n",
    "Some examples would be:\n",
    "<table>\n",
    "    <tr>\n",
    "        <th>Name</th>\n",
    "        <th>Phone Number</th>\n",
    "    </tr>\n",
    "    <tr>\n",
    "        <th>Mom</th>\n",
    "        <th>(000) 000-0000</th>\n",
    "    </tr>\n",
    "    <tr>\n",
    "        <th>Dad</th>\n",
    "        <th>(111) 111-1111</th>\n",
    "    </tr>\n",
    "    <tr>\n",
    "        <th>Wifey</th>\n",
    "        <th>(222) 222-2222</th>\n",
    "    </tr>\n",
    "</table>"
   ]
  },
  {
   "cell_type": "code",
   "execution_count": null,
   "metadata": {
    "dotnet_interactive": {
     "language": "csharp"
    },
    "vscode": {
     "languageId": "dotnet-interactive.csharp"
    }
   },
   "outputs": [
    {
     "name": "stdout",
     "output_type": "stream",
     "text": [
      "Total # of contacts: 3\r\n",
      "My mom's number is (000) 000-0000\r\n",
      "Adding sister's number...\r\n",
      "Total # of contacts: 4\r\n"
     ]
    }
   ],
   "source": [
    "using System.Collections.Generic;\n",
    "\n",
    "var phonebook = new Dictionary<string, string>();\n",
    "\n",
    "// add phone numbers to your phonebook\n",
    "phonebook.Add(\"mom\",\"(000) 000-0000\");\n",
    "phonebook.Add(\"dad\",\"(111) 111-1111\");\n",
    "phonebook.Add(\"wifey\",\"(222) 222-2222\");\n",
    "\n",
    "Console.WriteLine($\"Total # of contacts: {phonebook.Count}\");\n",
    "\n",
    "// retrieve a person's phone number\n",
    "var momsNumber = phonebook[\"mom\"];\n",
    "Console.WriteLine($\"My mom's number is {momsNumber}\");\n",
    "\n",
    "\n",
    "Console.WriteLine(\"Adding sister's number...\");\n",
    "phonebook.Add(\"sister\",\"(333) 333-3333\");\n",
    "Console.WriteLine($\"Total # of contacts: {phonebook.Count}\");"
   ]
  },
  {
   "cell_type": "markdown",
   "metadata": {},
   "source": [
    "Careful retrieving a phone if the person (key) doesn't exist. You will get a nasty error!"
   ]
  },
  {
   "cell_type": "code",
   "execution_count": null,
   "metadata": {
    "dotnet_interactive": {
     "language": "csharp"
    },
    "vscode": {
     "languageId": "dotnet-interactive.csharp"
    }
   },
   "outputs": [
    {
     "ename": "Error",
     "evalue": "System.Collections.Generic.KeyNotFoundException: The given key 'bestfriend' was not present in the dictionary.\r\n   at System.Collections.Generic.Dictionary`2.get_Item(TKey key)\r\n   at Submission#5.<<Initialize>>d__0.MoveNext()\r\n--- End of stack trace from previous location ---\r\n   at Microsoft.CodeAnalysis.Scripting.ScriptExecutionState.RunSubmissionsAsync[TResult](ImmutableArray`1 precedingExecutors, Func`2 currentExecutor, StrongBox`1 exceptionHolderOpt, Func`2 catchExceptionOpt, CancellationToken cancellationToken)",
     "output_type": "error",
     "traceback": [
      "System.Collections.Generic.KeyNotFoundException: The given key 'bestfriend' was not present in the dictionary.\r\n",
      "   at System.Collections.Generic.Dictionary`2.get_Item(TKey key)\r\n",
      "   at Submission#5.<<Initialize>>d__0.MoveNext()\r\n",
      "--- End of stack trace from previous location ---\r\n",
      "   at Microsoft.CodeAnalysis.Scripting.ScriptExecutionState.RunSubmissionsAsync[TResult](ImmutableArray`1 precedingExecutors, Func`2 currentExecutor, StrongBox`1 exceptionHolderOpt, Func`2 catchExceptionOpt, CancellationToken cancellationToken)"
     ]
    }
   ],
   "source": [
    "// Non-existent key\n",
    "var bestfriendsNumber = phonebook[\"bestfriend\"];\n",
    "Console.WriteLine($\"My bestfriend's number is {bestfriendsNumber}\");"
   ]
  },
  {
   "cell_type": "markdown",
   "metadata": {},
   "source": [
    "Dictionaries have a very handy method called `ContainsKey()`. You can use this to do a safety check before performing any operations. Much better than getting yelled at runtime!"
   ]
  },
  {
   "cell_type": "code",
   "execution_count": null,
   "metadata": {
    "dotnet_interactive": {
     "language": "csharp"
    },
    "vscode": {
     "languageId": "dotnet-interactive.csharp"
    }
   },
   "outputs": [
    {
     "name": "stdout",
     "output_type": "stream",
     "text": [
      "You don't have that person's number!\r\n"
     ]
    }
   ],
   "source": [
    "if (phonebook.ContainsKey(\"bestfriend\"))\n",
    "{\n",
    "    Console.WriteLine($\"My bestfriend's number is {phonebook[\"bestfriend\"]}\");\n",
    "}\n",
    "else\n",
    "{\n",
    "    Console.WriteLine(\"You don't have that person's number!\");\n",
    "}"
   ]
  },
  {
   "cell_type": "markdown",
   "metadata": {},
   "source": [
    "One of the constraints in the dictionary is that the keys must be unique. Be careful when adding the same key twice to the dictionary. It will also complain and give you a nasty error."
   ]
  },
  {
   "cell_type": "code",
   "execution_count": null,
   "metadata": {
    "dotnet_interactive": {
     "language": "csharp"
    },
    "vscode": {
     "languageId": "dotnet-interactive.csharp"
    }
   },
   "outputs": [
    {
     "ename": "Error",
     "evalue": "System.ArgumentException: An item with the same key has already been added. Key: wifey\r\n   at System.Collections.Generic.Dictionary`2.TryInsert(TKey key, TValue value, InsertionBehavior behavior)\r\n   at System.Collections.Generic.Dictionary`2.Add(TKey key, TValue value)\r\n   at Submission#7.<<Initialize>>d__0.MoveNext()\r\n--- End of stack trace from previous location ---\r\n   at Microsoft.CodeAnalysis.Scripting.ScriptExecutionState.RunSubmissionsAsync[TResult](ImmutableArray`1 precedingExecutors, Func`2 currentExecutor, StrongBox`1 exceptionHolderOpt, Func`2 catchExceptionOpt, CancellationToken cancellationToken)",
     "output_type": "error",
     "traceback": [
      "System.ArgumentException: An item with the same key has already been added. Key: wifey\r\n",
      "   at System.Collections.Generic.Dictionary`2.TryInsert(TKey key, TValue value, InsertionBehavior behavior)\r\n",
      "   at System.Collections.Generic.Dictionary`2.Add(TKey key, TValue value)\r\n",
      "   at Submission#7.<<Initialize>>d__0.MoveNext()\r\n",
      "--- End of stack trace from previous location ---\r\n",
      "   at Microsoft.CodeAnalysis.Scripting.ScriptExecutionState.RunSubmissionsAsync[TResult](ImmutableArray`1 precedingExecutors, Func`2 currentExecutor, StrongBox`1 exceptionHolderOpt, Func`2 catchExceptionOpt, CancellationToken cancellationToken)"
     ]
    }
   ],
   "source": [
    "// we added wifey's number before\n",
    "phonebook.Add(\"wifey\", \"123456789\");\n",
    "Console.WriteLine(phonebook[\"wifey\"]);"
   ]
  },
  {
   "cell_type": "markdown",
   "metadata": {},
   "source": [
    "Use the same trick to check if the `key` already exists before trying to add it again."
   ]
  }
 ],
 "metadata": {
  "kernelspec": {
   "display_name": ".NET (C#)",
   "language": "C#",
   "name": ".net-csharp"
  },
  "language_info": {
   "name": "C#"
  }
 },
 "nbformat": 4,
 "nbformat_minor": 2
}
