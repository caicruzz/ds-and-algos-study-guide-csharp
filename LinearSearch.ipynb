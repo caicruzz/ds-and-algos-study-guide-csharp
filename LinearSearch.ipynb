{
 "cells": [
  {
   "cell_type": "markdown",
   "metadata": {},
   "source": [
    "## Linear Search using arrays."
   ]
  },
  {
   "cell_type": "markdown",
   "metadata": {},
   "source": [
    "#### Description\n",
    "The algorithm `LinearSearch` takes in an array of integers `input` and finds the index of the desired integer `searchTerm`.\n",
    "\n",
    "If the `input` does not contain the `searchTerm`, the function returns a `-1`.\n",
    "\n",
    "Steps:\n",
    "1. Identify the first element of the array\n",
    "2. Compare whether the `searchTerm` is equal to identified value in the previous step.\n",
    "3. If the `searchTerm` is not equal to the value, move to the next element of the array.\n",
    "5. Repeat these steps until we have found the value, or we can't loop through the array any more."
   ]
  },
  {
   "cell_type": "markdown",
   "metadata": {},
   "source": [
    "##### Example:\n",
    "Let's say we have the following `input = [5,0,9,10,1]` and we wanted to find the index for number 9. Following the steps above we will: \n",
    "1. Identify the first element: 5.\n",
    "2. Since 5 is not equal to 9 we move to the next element: [~~5~~,0,9,10,1].\n",
    "3. Identify the next element: 0.\n",
    "4. Since 0 is not equal to 9 we move to the next element: [~~5,0~~,9,10,1].\n",
    "5. Identify the next element: 9.\n",
    "6. 9 equals 9; we found our number and we can stop looping through the array."
   ]
  },
  {
   "cell_type": "markdown",
   "metadata": {},
   "source": [
    "### Big O\n",
    "LinearSearch has a Big O notation of `O(n)` where n is the number of elements in the array.\n",
    "Arguably, if the value we are searching for is always located at index 0, then the algorithm would have a Big O notation of `O(1)` since it would be a single constant operation regardless of the size of `n`."
   ]
  },
  {
   "cell_type": "code",
   "execution_count": null,
   "metadata": {
    "dotnet_interactive": {
     "language": "csharp"
    },
    "vscode": {
     "languageId": "dotnet-interactive.csharp"
    }
   },
   "outputs": [],
   "source": [
    "public int LinearSearch(int[] input, int searchTerm)\n",
    "{\n",
    "    var result = -1;\n",
    "\n",
    "    for(var i = 0; i < input.Length; i++)\n",
    "    {\n",
    "        if (searchTerm == input[i])\n",
    "        {\n",
    "            result = i;\n",
    "        }\n",
    "    }\n",
    "\n",
    "    return result;\n",
    "}"
   ]
  },
  {
   "cell_type": "code",
   "execution_count": null,
   "metadata": {
    "dotnet_interactive": {
     "language": "csharp"
    },
    "vscode": {
     "languageId": "dotnet-interactive.csharp"
    }
   },
   "outputs": [
    {
     "name": "stdout",
     "output_type": "stream",
     "text": [
      "The number 2 is located at index: 3"
     ]
    }
   ],
   "source": [
    "// Run this block to display the result.\n",
    "public void DisplayResult(int searchTerm, int index)\n",
    "{\n",
    "    string sentence;\n",
    "\n",
    "    if (index == -1)\n",
    "    {\n",
    "        sentence = $\"{searchTerm} is not in the array\";\n",
    "    }\n",
    "    else\n",
    "    {\n",
    "        sentence = $\"The number {searchTerm} is located at index: {index}\";\n",
    "    }\n",
    "\n",
    "    Console.Write(sentence);\n",
    "}\n",
    "\n",
    "// Play around with these variables to see how the algorithm behaves in different scenarios.\n",
    "var arr = new int[] {0,-1,10,2,5};\n",
    "var searchTerm = 2;\n",
    "\n",
    "var result = LinearSearch(arr, searchTerm);\n",
    "\n",
    "\n",
    "DisplayResult(searchTerm, result);"
   ]
  }
 ],
 "metadata": {
  "kernelspec": {
   "display_name": ".NET (C#)",
   "language": "C#",
   "name": ".net-csharp"
  },
  "language_info": {
   "name": "C#"
  }
 },
 "nbformat": 4,
 "nbformat_minor": 2
}
