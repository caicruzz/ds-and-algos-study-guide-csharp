{
 "cells": [
  {
   "cell_type": "markdown",
   "metadata": {},
   "source": [
    "## Intro to Binary Search"
   ]
  },
  {
   "cell_type": "markdown",
   "metadata": {},
   "source": [
    "#### Description\n",
    "The algorithm `BinarySearch` takes in an array of integers `input` and finds the index of the desired integer `searchTerm`.\n",
    "\n",
    "If the `input` does not contain the `searchTerm`, the function returns a `-1`.\n",
    "\n",
    "Steps:\n",
    "1. Identify the middle value to split the array in 2; upper half and lower half.\n",
    "2. Compare whether the `searchTerm` is equal to, less than , or greater than the middle value.\n",
    "3. If the `searchTerm` is less than the middle value, we can eliminate the upper half.\n",
    "4. If the `searchTerm` is greater than the middle value, we can eliminate the bottom half.\n",
    "5. Repeat these steps until we have found the value, or we can't split the array any more.\n",
    "\n",
    "It is **important to note** that in order for this algorithm to work, **the elements of the array need to be in ascending order. An unordered array will not work.**"
   ]
  },
  {
   "cell_type": "markdown",
   "metadata": {},
   "source": [
    "##### Example:\n",
    "Let's say we have the following `input = [1,5,8,9,10]` and we wanted to find the index for number 5. Following the steps above we will: \n",
    "1. Identify the middle to be number 8.\n",
    "2. Since 5 is less than 8, we can get rid of the upper half including the 8: [1,5,~~8,9,10~~].\n",
    "3. Identify the middle to be 1. *(C# rounds integer division to the lowest integer: 1/2 = 0)*\n",
    "4. Since 5 is greater than 8, we can get rid of the lower half: [~~1~~,5].\n",
    "5. Identify the middle to be number 5. (Last remaining number)\n",
    "6. 5 equals 5; we found our number."
   ]
  },
  {
   "cell_type": "markdown",
   "metadata": {},
   "source": [
    "### Big O\n",
    "BinarySearch has a Big O notation of `O(log N)`"
   ]
  },
  {
   "cell_type": "code",
   "execution_count": null,
   "metadata": {
    "dotnet_interactive": {
     "language": "csharp"
    },
    "vscode": {
     "languageId": "dotnet-interactive.csharp"
    }
   },
   "outputs": [],
   "source": [
    "public int BinarySearch(int[] input, int searchTerm)\n",
    "{\n",
    "    var bottom = 0;\n",
    "    var top = input.Length - 1;\n",
    "    var result = -1;\n",
    "\n",
    "    while(bottom <= top)\n",
    "    {\n",
    "        var middleIndex = (bottom + top) / 2;\n",
    "        var currentValue = input[middleIndex];\n",
    "\n",
    "        if (currentValue == searchTerm)\n",
    "        {\n",
    "            result = middleIndex;\n",
    "            break;\n",
    "        }\n",
    "\n",
    "        if (searchTerm < currentValue)\n",
    "        {\n",
    "            top = middleIndex - 1;\n",
    "        }\n",
    "        else\n",
    "        {\n",
    "            bottom = middleIndex + 1;\n",
    "        }\n",
    "    }\n",
    "\n",
    "    return result;\n",
    "}"
   ]
  },
  {
   "cell_type": "code",
   "execution_count": null,
   "metadata": {
    "dotnet_interactive": {
     "language": "csharp"
    },
    "vscode": {
     "languageId": "dotnet-interactive.csharp"
    }
   },
   "outputs": [
    {
     "name": "stdout",
     "output_type": "stream",
     "text": [
      "The number 5 is located at index: 1"
     ]
    }
   ],
   "source": [
    "// Run this block to display the result.\n",
    "public void DisplayResult(int searchTerm, int index)\n",
    "{\n",
    "    string sentence;\n",
    "\n",
    "    if (index == -1)\n",
    "    {\n",
    "        sentence = $\"{searchTerm} is not in the array\";\n",
    "    }\n",
    "    else\n",
    "    {\n",
    "        sentence = $\"The number {searchTerm} is located at index: {index}\";\n",
    "    }\n",
    "\n",
    "    Console.Write(sentence);\n",
    "}\n",
    "\n",
    "// Play around with these variables to see how the algorithm behaves in different scenarios.\n",
    "var arr = new int[] {1,5,9,100};\n",
    "var searchTerm = 5;\n",
    "\n",
    "var result = BinarySearch(arr, searchTerm);\n",
    "\n",
    "\n",
    "DisplayResult(searchTerm, result);"
   ]
  },
  {
   "cell_type": "markdown",
   "metadata": {},
   "source": [
    "A problem you might encounter in a coding interview is to find the upper boundary of an array.\n",
    "For example: given the array `[false, false, false, true, true]`, find the index of the first `true` value. You can use a similar `divide and conquer` approach as `Binary Search`."
   ]
  },
  {
   "cell_type": "code",
   "execution_count": null,
   "metadata": {
    "dotnet_interactive": {
     "language": "csharp"
    },
    "vscode": {
     "languageId": "dotnet-interactive.csharp"
    }
   },
   "outputs": [
    {
     "name": "stdout",
     "output_type": "stream",
     "text": [
      "3\r\n"
     ]
    }
   ],
   "source": [
    "public int FindUpperBoundary(bool[] arr)\n",
    "{\n",
    "    var left = 0;\n",
    "    var right = arr.Length - 1;\n",
    "    var boundaryIndex = -1;\n",
    "\n",
    "    while (left <= right)\n",
    "    {\n",
    "        var middle = (left + right) / 2;\n",
    "\n",
    "        if (arr[middle] == false)\n",
    "        {\n",
    "            left = middle + 1;\n",
    "        }\n",
    "        else\n",
    "        {\n",
    "            right = middle - 1;\n",
    "            boundaryIndex = middle;\n",
    "        }\n",
    "    }\n",
    "\n",
    "    return boundaryIndex;\n",
    "}\n",
    "\n",
    "var arr = new bool[] {false,false,false,true,true};\n",
    "\n",
    "var result = FindUpperBoundary(arr);\n",
    "\n",
    "Console.WriteLine(result);"
   ]
  },
  {
   "cell_type": "markdown",
   "metadata": {},
   "source": [
    "Another good example is a problem where given a sorted array and a `target` you have to find the index of the first element that is >= `target`. Return -1 if the index does not exist. Example `nums = 1,5,6,8,9,11,13,16` and `target = 10` the answer is index = 5."
   ]
  },
  {
   "cell_type": "code",
   "execution_count": null,
   "metadata": {
    "dotnet_interactive": {
     "language": "csharp"
    },
    "vscode": {
     "languageId": "dotnet-interactive.csharp"
    }
   },
   "outputs": [
    {
     "data": {
      "text/html": [
       "<div class=\"dni-plaintext\">5</div>"
      ]
     },
     "metadata": {},
     "output_type": "display_data"
    }
   ],
   "source": [
    "public int FindFirstGreaterThanOrEqualElement(List<int> nums, int target)\n",
    "{\n",
    "    var result = -1;\n",
    "    var top = nums.Count - 1;\n",
    "    var bottom = 0;\n",
    "\n",
    "    while (bottom <= top)\n",
    "    {\n",
    "        var middle = (bottom + top) / 2;\n",
    "        var currentNum = nums[middle];\n",
    "\n",
    "        if (currentNum >= target)\n",
    "        {\n",
    "            result = middle;\n",
    "            top = middle -1;\n",
    "        }\n",
    "        else\n",
    "        {\n",
    "            bottom = middle + 1;\n",
    "        }\n",
    "    }\n",
    "\n",
    "    return result;\n",
    "}\n",
    "\n",
    "var nums = new List<int> {1,5,6,8,9,11,13,16};\n",
    "var target = 10;\n",
    "\n",
    "var result = FindFirstGreaterThanOrEqualElement(nums, target);\n",
    "\n",
    "result.Display();"
   ]
  },
  {
   "cell_type": "markdown",
   "metadata": {
    "dotnet_interactive": {
     "language": "csharp"
    }
   },
   "source": [
    "Yet another good example: given a sorted array and a `target` you have to find the index of the first ocurrence of `target`. If the target does not exist, return -1. Example `nums = 1,5,6,8,8,9,11,13,16` and `target = 8` the answer is index = 3."
   ]
  },
  {
   "cell_type": "code",
   "execution_count": null,
   "metadata": {
    "dotnet_interactive": {
     "language": "csharp"
    },
    "vscode": {
     "languageId": "dotnet-interactive.csharp"
    }
   },
   "outputs": [
    {
     "data": {
      "text/html": [
       "<div class=\"dni-plaintext\">1</div>"
      ]
     },
     "metadata": {},
     "output_type": "display_data"
    }
   ],
   "source": [
    "public int FindFirstOccurence(List<int> nums, int target)\n",
    "{\n",
    "    var result = -1;\n",
    "    var top = nums.Count - 1;\n",
    "    var bottom = 0;\n",
    "\n",
    "    while (bottom <= top)\n",
    "    {\n",
    "        var middle = (bottom + top) / 2;\n",
    "        var currentNum = nums[middle];\n",
    "\n",
    "        if (currentNum == target)\n",
    "        {\n",
    "            result = middle;\n",
    "            top = middle - 1;\n",
    "        }\n",
    "        else if (currentNum > target)\n",
    "        {\n",
    "            top = middle - 1;\n",
    "        }\n",
    "        else\n",
    "        {\n",
    "            bottom = middle + 1;\n",
    "        }\n",
    "    }\n",
    "\n",
    "    return result;\n",
    "}\n",
    "\n",
    "var nums = new List<int> {2,3,5,7,11};\n",
    "var target = 3;\n",
    "\n",
    "var result = FindFirstOccurence(nums, target);\n",
    "\n",
    "result.Display();"
   ]
  }
 ],
 "metadata": {
  "kernelspec": {
   "display_name": ".NET (C#)",
   "language": "C#",
   "name": ".net-csharp"
  },
  "language_info": {
   "name": "C#"
  }
 },
 "nbformat": 4,
 "nbformat_minor": 2
}
