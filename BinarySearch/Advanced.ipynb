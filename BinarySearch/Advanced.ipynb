{
 "cells": [
  {
   "cell_type": "markdown",
   "metadata": {},
   "source": [
    "## Advanced Binary Search."
   ]
  },
  {
   "cell_type": "markdown",
   "metadata": {
    "dotnet_interactive": {
     "language": "csharp"
    }
   },
   "source": [
    "A good example of a more advanced problem that can be solved using binary search is the following:\n",
    "\n",
    "\n",
    "Given a sorted array and a `target` you have to find the index of the first ocurrence of `target`. If the target does not exist, return -1.\n",
    "\n",
    "Example: `nums = 1,5,6,8,8,9,11,13,16` and `target = 8` the answer is index = 3."
   ]
  },
  {
   "cell_type": "code",
   "execution_count": null,
   "metadata": {
    "dotnet_interactive": {
     "language": "csharp"
    },
    "vscode": {
     "languageId": "dotnet-interactive.csharp"
    }
   },
   "outputs": [
    {
     "data": {
      "text/html": [
       "<div class=\"dni-plaintext\">1</div>"
      ]
     },
     "metadata": {},
     "output_type": "display_data"
    }
   ],
   "source": [
    "public int FindFirstOccurence(List<int> nums, int target)\n",
    "{\n",
    "    var result = -1;\n",
    "    var top = nums.Count - 1;\n",
    "    var bottom = 0;\n",
    "\n",
    "    while (bottom <= top)\n",
    "    {\n",
    "        var middle = (bottom + top) / 2;\n",
    "        var currentNum = nums[middle];\n",
    "\n",
    "        if (currentNum == target)\n",
    "        {\n",
    "            result = middle;\n",
    "            top = middle - 1;\n",
    "        }\n",
    "        else if (currentNum > target)\n",
    "        {\n",
    "            top = middle - 1;\n",
    "        }\n",
    "        else\n",
    "        {\n",
    "            bottom = middle + 1;\n",
    "        }\n",
    "    }\n",
    "\n",
    "    return result;\n",
    "}\n",
    "\n",
    "var nums = new List<int> {2,3,5,7,11};\n",
    "var target = 3;\n",
    "\n",
    "var result = FindFirstOccurence(nums, target);\n",
    "\n",
    "result.Display();"
   ]
  },
  {
   "cell_type": "markdown",
   "metadata": {},
   "source": [
    "Hopefully you are starting to see a pattern in all of these binary searches. It comes down to:\n",
    "1. Defining a \"filter\".\n",
    "2. Dividing the sorted array in 2. Hence, the Bi in Binary Search.\n",
    "3. Deciding which half of the split to discard based on the filter.\n",
    "4. Repeat until you find the result or can't divide the array any further.\n",
    "\n",
    "In the introductory example of `BinarySearch` the filter was whether the current midpoint was <= target `(i <= target)`. Based on that filter you decide if `i` is less than target, discard the bottom half, else discard the top half.\n",
    "\n",
    "Also, in the introductory example of `FindUpperBoundary` your filter is whether `i == false`. if `i` is true, then discard the top half, else discard the bottom half.\n",
    "\n",
    "Let's take it up a notch with a more advanced example. Let's suppose you are a delivery driver. Given a list of package weights and a target days of delivery, find the smallest truck that can handle the capacity and deliver in the target amount of days.\n",
    "\n",
    "### Example\n",
    "#### Input:\n",
    "`weights = [1, 2, 3, 4, 5, 6, 7, 8, 9, 10]`\n",
    "\n",
    "`d = 5`\n",
    "#### Output: 15\n",
    "The first day we deliver the first 5 packages. The following day we deliver the next 2, and then, we deliver 1 for each of the following days for a total of 5 days. The maximum weight delivered on each day is 15, so we can have a truck with a capacity of 15. This value is the minimum.\n",
    "\n",
    "### Implementation"
   ]
  },
  {
   "cell_type": "code",
   "execution_count": null,
   "metadata": {
    "dotnet_interactive": {
     "language": "csharp"
    },
    "vscode": {
     "languageId": "dotnet-interactive.csharp"
    }
   },
   "outputs": [
    {
     "name": "stdout",
     "output_type": "stream",
     "text": [
      "You need a truck with a capacity of 21\n"
     ]
    }
   ],
   "source": [
    "public int MinMaxWeight(List<int> weights, int days)\n",
    "{\n",
    "    var result = 0;\n",
    "    var bottom = weights.Max();\n",
    "    var top = weights.Sum();\n",
    "    \n",
    "    while (bottom <= top)\n",
    "    {\n",
    "        var middle = (bottom + top) / 2;\n",
    "        if (IsFeasible(weights, middle, days))\n",
    "        {\n",
    "            result = middle;\n",
    "            top = middle - 1;\n",
    "        }\n",
    "        else\n",
    "        {\n",
    "            bottom = middle + 1;\n",
    "        }\n",
    "    }\n",
    "\n",
    "    return result;\n",
    "}\n",
    "\n",
    "public bool IsFeasible(List<int> weights, int capacity, int days)\n",
    "{\n",
    "    var requiredDays = 1;\n",
    "    var maxCapacity = capacity;\n",
    "    var i = 0;\n",
    "\n",
    "    while (i < weights.Count)\n",
    "    {\n",
    "        if (weights[i] <= maxCapacity)\n",
    "        {\n",
    "            maxCapacity -= weights[i];\n",
    "            i += 1;\n",
    "        }\n",
    "        else\n",
    "        {\n",
    "            requiredDays += 1;\n",
    "            maxCapacity = capacity;\n",
    "        }\n",
    "    }\n",
    "\n",
    "    return requiredDays <= days;\n",
    "}\n",
    "\n",
    "var packagesWeights = new List<int> {1,4,7,9,15};\n",
    "var result = MinMaxWeight(packagesWeights, 2);\n",
    "Console.WriteLine($\"You need a truck with a capacity of {r}\");"
   ]
  }
 ],
 "metadata": {
  "kernelspec": {
   "display_name": ".NET (C#)",
   "language": "C#",
   "name": ".net-csharp"
  },
  "language_info": {
   "name": "C#"
  }
 },
 "nbformat": 4,
 "nbformat_minor": 2
}
