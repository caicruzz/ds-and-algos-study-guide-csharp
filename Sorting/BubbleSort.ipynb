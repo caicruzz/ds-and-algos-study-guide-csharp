{
 "cells": [
  {
   "cell_type": "markdown",
   "metadata": {},
   "source": [
    "## Bubble Sort\n",
    "### Description\n",
    "The bubble sort algorithm takes an array of numbers and returns the array sorted from least to greatest (ascending). \n",
    "\n",
    "### Steps\n",
    "1. Starting at the beginning of the array grab the next 2 elements (indexes 0, 1)\n",
    "2. Compare them. If the left side element is greater than the right side element, swap them.\n",
    "3. If the left side element is less than or equal to the right side element, do nothing.\n",
    "4. Move to the next elements (indexes 1, 2).\n",
    "5. Repeat this steps until the end of the array. This is one iteration.\n",
    "6. Repeat as many iterations needed, until you do not make any swaps.\n",
    "\n",
    "### Big O\n",
    "Bubble sort has a Big O notation of `O(n^2)`.\n",
    "\n",
    "### Notes\n",
    "Every iteration you are moving up, or bubbling up, the greatest element not sorted into its correct position in the array. That's why it's called `Bubble` Sort."
   ]
  },
  {
   "cell_type": "code",
   "execution_count": null,
   "metadata": {
    "dotnet_interactive": {
     "language": "csharp"
    },
    "vscode": {
     "languageId": "dotnet-interactive.csharp"
    }
   },
   "outputs": [
    {
     "name": "stdout",
     "output_type": "stream",
     "text": [
      "False\r\n"
     ]
    }
   ],
   "source": [
    "public List<int> BubbleSort(List<int> unsortedList)\n",
    "{\n",
    "    var isSorted = false;\n",
    "    var unsortedUntil = unsortedList.Count - 1;\n",
    "    \n",
    "    while (!isSorted)\n",
    "    {\n",
    "        isSorted = true;\n",
    "        for (var i = 0; i < unsortedUntil; i++)\n",
    "        {\n",
    "            var current = unsortedList[i];\n",
    "            var next = unsortedList[i + 1];\n",
    "\n",
    "            if (current > next)\n",
    "            {\n",
    "                unsortedList[i + 1] = current;\n",
    "                unsortedList[i] = next;\n",
    "                isSorted = false;\n",
    "            }\n",
    "        }\n",
    "        unsortedUntil -= 1;\n",
    "    }\n",
    "    \n",
    "    return unsortedList;\n",
    "}"
   ]
  }
 ],
 "metadata": {
  "kernelspec": {
   "display_name": ".NET (C#)",
   "language": "C#",
   "name": ".net-csharp"
  },
  "language_info": {
   "file_extension": ".cs",
   "mimetype": "text/x-csharp",
   "name": "C#",
   "pygments_lexer": "csharp",
   "version": "9.0"
  },
  "orig_nbformat": 4
 },
 "nbformat": 4,
 "nbformat_minor": 2
}
