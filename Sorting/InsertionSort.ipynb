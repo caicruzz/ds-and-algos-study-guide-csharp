{
 "cells": [
  {
   "cell_type": "markdown",
   "metadata": {},
   "source": [
    "## Insertion Sort\n",
    "### Description\n",
    "The insertion sort algorithm takes an array of numbers and returns the array sorted from least to greatest (ascending). \n",
    "\n",
    "### Steps\n",
    "1. Identify the element at index 1 we will call this `temp`\n",
    "2. Compare it with the values at the left. In this case element at index 0.\n",
    "3. If the element at index 0 is greater than the `temp` value, swamp them.\n",
    "4. Keep comparing and swapping until you find an element less than `temp`, or you reach the beginning of the array.\n",
    "5. Repeat steps 1 - 5 until you reach the end of the array.\n",
    "\n",
    "### Big O\n",
    "Insertion sort has a Big O notation of `O(n^2)`\n",
    "\n",
    "### Notes\n",
    "The idea behind this sorting algorithm is sort of like sorting a deck of cards. You start with a single card that represents your sorted deck. Then from the unsorted deck you find the next card and place it into the correct position in the sorted deck."
   ]
  },
  {
   "cell_type": "code",
   "execution_count": null,
   "metadata": {
    "dotnet_interactive": {
     "language": "csharp"
    },
    "vscode": {
     "languageId": "dotnet-interactive.csharp"
    }
   },
   "outputs": [
    {
     "name": "stdout",
     "output_type": "stream",
     "text": [
      "0\r\n",
      "1\r\n",
      "3\r\n",
      "5\r\n",
      "8\r\n"
     ]
    }
   ],
   "source": [
    "public List<int> InsertionSort(List<int> unsortedList)\n",
    "{\n",
    "    for (var i = 0; i < unsortedList.Count; i++)\n",
    "    {\n",
    "        var current = i;\n",
    "        while (current > 0 && unsortedList[current] < unsortedList[current - 1])\n",
    "        {\n",
    "            var temp = unsortedList[current];\n",
    "            unsortedList[current] = unsortedList[current - 1];\n",
    "            unsortedList[current - 1] = temp;\n",
    "            current--;\n",
    "        }\n",
    "    }\n",
    "    return unsortedList;\n",
    "}\n",
    "\n",
    "var result = InsertionSort(new List<int>() {1,5,8,3,0});\n",
    "\n",
    "foreach(var num in result)\n",
    "{\n",
    "    Console.WriteLine(num);\n",
    "}"
   ]
  }
 ],
 "metadata": {
  "kernelspec": {
   "display_name": ".NET (C#)",
   "language": "C#",
   "name": ".net-csharp"
  },
  "language_info": {
   "file_extension": ".cs",
   "mimetype": "text/x-csharp",
   "name": "C#",
   "pygments_lexer": "csharp",
   "version": "9.0"
  },
  "orig_nbformat": 4
 },
 "nbformat": 4,
 "nbformat_minor": 2
}
