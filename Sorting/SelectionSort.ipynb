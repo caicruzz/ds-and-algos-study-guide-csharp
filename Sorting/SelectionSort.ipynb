{
 "cells": [
  {
   "cell_type": "markdown",
   "metadata": {},
   "source": [
    "## Selection Sort\n",
    "### Description\n",
    "The selection sort algorithm takes an array of numbers and returns the array sorted from least to greatest (ascending). \n",
    "\n",
    "### Steps\n",
    "1. Starting at the beginning of the array grab the first element\n",
    "2. We keep track of the lowest number's index we see in a variable called `lowestIndex`. (Currently the first element)\n",
    "3. Grab the next element and compare it against `lowestIndex`.\n",
    "4. If the new element is less than the number at `lowestIndex`, we update `lowestIndex` with the index of the new element.\n",
    "5. Once you reach the end of the array, swap the element at `lowestIndex` with the first element.\n",
    "6. Repeat steps 1-5 until we have a sorted array.\n",
    "\n",
    "### Big O\n",
    "Selection sort has a Big O notation of `O(n^2)`\n",
    "\n",
    "### Notes\n",
    "Every iteration you are *selecting* the lowest element not sorted and swaping it into its correct position in the array. That's why it's called `Selection` Sort."
   ]
  },
  {
   "cell_type": "code",
   "execution_count": null,
   "metadata": {
    "dotnet_interactive": {
     "language": "csharp"
    },
    "vscode": {
     "languageId": "dotnet-interactive.csharp"
    }
   },
   "outputs": [
    {
     "name": "stdout",
     "output_type": "stream",
     "text": [
      "-6\r\n",
      "0\r\n",
      "1\r\n",
      "1\r\n",
      "5\r\n",
      "10\r\n",
      "35\r\n"
     ]
    }
   ],
   "source": [
    "public List<int> SelectionSort(List<int> unsortedList)\n",
    "{\n",
    "    var lowestIndex = 0;\n",
    "    var sortedUntil = 0;\n",
    "\n",
    "    while (sortedUntil < unsortedList.Count - 1)\n",
    "    {\n",
    "        for(var i = lowestIndex; i < unsortedList.Count; i++)\n",
    "        {\n",
    "            var minNumberFound = unsortedList[lowestIndex];\n",
    "            var currentNumber = unsortedList[i];\n",
    "\n",
    "            if (currentNumber < minNumberFound)\n",
    "            {\n",
    "                lowestIndex = i;\n",
    "            }\n",
    "        }\n",
    "\n",
    "        var minNumber = unsortedList[lowestIndex];\n",
    "        unsortedList[lowestIndex] = unsortedList[sortedUntil];\n",
    "        unsortedList[sortedUntil] = minNumber;\n",
    "        \n",
    "        sortedUntil += 1;\n",
    "        lowestIndex = sortedUntil;\n",
    "    }\n",
    "\n",
    "    return unsortedList;\n",
    "}\n",
    "\n",
    "var result = SelectionSort(new List<int>() {1,10,35,-6,1,5,0});\n",
    "\n",
    "foreach(var num in result)\n",
    "{\n",
    "    Console.WriteLine(num);\n",
    "}"
   ]
  }
 ],
 "metadata": {
  "kernelspec": {
   "display_name": ".NET (C#)",
   "language": "C#",
   "name": ".net-csharp"
  },
  "language_info": {
   "file_extension": ".cs",
   "mimetype": "text/x-csharp",
   "name": "C#",
   "pygments_lexer": "csharp",
   "version": "9.0"
  },
  "orig_nbformat": 4
 },
 "nbformat": 4,
 "nbformat_minor": 2
}
